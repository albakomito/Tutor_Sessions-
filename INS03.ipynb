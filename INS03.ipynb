{
 "cells": [
  {
   "cell_type": "code",
   "execution_count": 1,
   "id": "41568611-aa1b-411b-b0a0-2197f7656155",
   "metadata": {},
   "outputs": [],
   "source": [
    "# Import libraries (includes special code from Armando) \n",
    "import numpy as np\n",
    "import pandas as pd\n",
    "import random "
   ]
  },
  {
   "cell_type": "code",
   "execution_count": 2,
   "id": "ddb4f6c2-cf2f-4128-9ed7-396d1fc7dd7d",
   "metadata": {},
   "outputs": [],
   "source": [
    "df=pd.read_csv('osptx.csv',parse_dates=True, index_col= 'Date')"
   ]
  },
  {
   "cell_type": "code",
   "execution_count": 3,
   "id": "6cf88e2b-cc5b-4f30-9668-4060bef002c5",
   "metadata": {},
   "outputs": [
    {
     "data": {
      "text/html": [
       "<div>\n",
       "<style scoped>\n",
       "    .dataframe tbody tr th:only-of-type {\n",
       "        vertical-align: middle;\n",
       "    }\n",
       "\n",
       "    .dataframe tbody tr th {\n",
       "        vertical-align: top;\n",
       "    }\n",
       "\n",
       "    .dataframe thead th {\n",
       "        text-align: right;\n",
       "    }\n",
       "</style>\n",
       "<table border=\"1\" class=\"dataframe\">\n",
       "  <thead>\n",
       "    <tr style=\"text-align: right;\">\n",
       "      <th></th>\n",
       "      <th>Open</th>\n",
       "      <th>High</th>\n",
       "      <th>Low</th>\n",
       "      <th>Close</th>\n",
       "      <th>Volume</th>\n",
       "    </tr>\n",
       "    <tr>\n",
       "      <th>Date</th>\n",
       "      <th></th>\n",
       "      <th></th>\n",
       "      <th></th>\n",
       "      <th></th>\n",
       "      <th></th>\n",
       "    </tr>\n",
       "  </thead>\n",
       "  <tbody>\n",
       "    <tr>\n",
       "      <th>2012-01-03 16:00:00</th>\n",
       "      <td>12097.23</td>\n",
       "      <td>12216.76</td>\n",
       "      <td>11955.94</td>\n",
       "      <td>12208.43</td>\n",
       "      <td>162333312</td>\n",
       "    </tr>\n",
       "    <tr>\n",
       "      <th>2012-01-04 16:00:00</th>\n",
       "      <td>12189.71</td>\n",
       "      <td>12234.27</td>\n",
       "      <td>12154.04</td>\n",
       "      <td>12226.47</td>\n",
       "      <td>175575328</td>\n",
       "    </tr>\n",
       "    <tr>\n",
       "      <th>2012-01-05 16:00:00</th>\n",
       "      <td>12196.24</td>\n",
       "      <td>12253.13</td>\n",
       "      <td>12137.11</td>\n",
       "      <td>12237.40</td>\n",
       "      <td>161562816</td>\n",
       "    </tr>\n",
       "    <tr>\n",
       "      <th>2012-01-06 16:00:00</th>\n",
       "      <td>12241.82</td>\n",
       "      <td>12245.99</td>\n",
       "      <td>12148.31</td>\n",
       "      <td>12188.64</td>\n",
       "      <td>144785088</td>\n",
       "    </tr>\n",
       "    <tr>\n",
       "      <th>2012-01-09 16:00:00</th>\n",
       "      <td>12194.98</td>\n",
       "      <td>12210.58</td>\n",
       "      <td>12150.68</td>\n",
       "      <td>12196.72</td>\n",
       "      <td>149905296</td>\n",
       "    </tr>\n",
       "  </tbody>\n",
       "</table>\n",
       "</div>"
      ],
      "text/plain": [
       "                         Open      High       Low     Close     Volume\n",
       "Date                                                                  \n",
       "2012-01-03 16:00:00  12097.23  12216.76  11955.94  12208.43  162333312\n",
       "2012-01-04 16:00:00  12189.71  12234.27  12154.04  12226.47  175575328\n",
       "2012-01-05 16:00:00  12196.24  12253.13  12137.11  12237.40  161562816\n",
       "2012-01-06 16:00:00  12241.82  12245.99  12148.31  12188.64  144785088\n",
       "2012-01-09 16:00:00  12194.98  12210.58  12150.68  12196.72  149905296"
      ]
     },
     "execution_count": 3,
     "metadata": {},
     "output_type": "execute_result"
    }
   ],
   "source": [
    "df.head()"
   ]
  },
  {
   "cell_type": "code",
   "execution_count": 4,
   "id": "20120275-b574-4d56-8d58-1bab6952a2a3",
   "metadata": {},
   "outputs": [],
   "source": [
    "from statsmodels.tsa.stattools import adfuller\n",
    "\n",
    "def is_stationary(series_x): \n",
    "    \"\"\"\n",
    "    Input expected: Pandas series\n",
    "    \"\"\"\n",
    "    series_x.plot(title=series_x.name)\n",
    "    \n",
    "    result = adfuller(series_x)\n",
    "    # Access the contents of the results:\n",
    "    print('ADF Statistic: %f' % result[0])\n",
    "    print('p-value:        %f ' % result[1])\n",
    "    print('Lags used:      %d' % result[2])\n",
    "    print('Critical Values:')\n",
    "    for key, value in result[4].items():\n",
    "        print((key, value))\n",
    "    \n",
    "\n",
    "    p_value = result[1]\n",
    "    if p_value <= 0.05: \n",
    "        return True \n",
    "    elif p_value > 0.05: \n",
    "        return False\n"
   ]
  },
  {
   "cell_type": "code",
   "execution_count": 5,
   "id": "5abf856b-ba8f-4713-a703-3c27f4cb437b",
   "metadata": {},
   "outputs": [
    {
     "data": {
      "text/plain": [
       "<AxesSubplot:xlabel='Date'>"
      ]
     },
     "execution_count": 5,
     "metadata": {},
     "output_type": "execute_result"
    },
    {
     "data": {
      "image/png": "[encoded data removed]",
      "text/plain": [
       "<Figure size 432x288 with 1 Axes>"
      ]
     },
     "metadata": {
      "needs_background": "light"
     },
     "output_type": "display_data"
    }
   ],
   "source": [
    "df.Close.plot()"
   ]
  },
  {
   "cell_type": "code",
   "execution_count": 6,
   "id": "5d9a6891-d9b8-43c2-b522-f381adf78936",
   "metadata": {},
   "outputs": [
    {
     "name": "stdout",
     "output_type": "stream",
     "text": [
      "ADF Statistic: -1.556289\n",
      "p-value:        0.505505 \n",
      "Lags used:      1\n",
      "Critical Values:\n",
      "('1%', -3.4338349685861806)\n",
      "('5%', -2.8630794170659684)\n",
      "('10%', -2.5675895289750503)\n"
     ]
    },
    {
     "data": {
      "text/plain": [
       "False"
      ]
     },
     "execution_count": 6,
     "metadata": {},
     "output_type": "execute_result"
    },
    {
     "data": {
      "image/png": "[encoded data removed]",
      "text/plain": [
       "<Figure size 432x288 with 1 Axes>"
      ]
     },
     "metadata": {
      "needs_background": "light"
     },
     "output_type": "display_data"
    }
   ],
   "source": [
    "is_stationary(df['Close'])"
   ]
  },
  {
   "cell_type": "code",
   "execution_count": 7,
   "id": "c6dcb28b-1941-4c43-bb1c-ae790253ace5",
   "metadata": {},
   "outputs": [],
   "source": [
    "# Convert to stationary by adding a new column for pct_change \n",
    "df['returns'] = df['Close'].pct_change()"
   ]
  },
  {
   "cell_type": "code",
   "execution_count": 8,
   "id": "7d74da9f-4115-4061-b618-bc2e5e112d97",
   "metadata": {},
   "outputs": [
    {
     "name": "stdout",
     "output_type": "stream",
     "text": [
      "ADF Statistic: -20.886771\n",
      "p-value:        0.000000 \n",
      "Lags used:      4\n",
      "Critical Values:\n",
      "('1%', -3.433842413401391)\n",
      "('5%', -2.8630827037453277)\n",
      "('10%', -2.5675912790044446)\n"
     ]
    },
    {
     "data": {
      "text/plain": [
       "True"
      ]
     },
     "execution_count": 8,
     "metadata": {},
     "output_type": "execute_result"
    },
    {
     "data": {
      "image/png": "[encoded data removed]",
      "text/plain": [
       "<Figure size 432x288 with 1 Axes>"
      ]
     },
     "metadata": {
      "needs_background": "light"
     },
     "output_type": "display_data"
    }
   ],
   "source": [
    "# Drop Nan, do Dickey Fuller test \n",
    "df.dropna(inplace=True)\n",
    "is_stationary(df['returns'])"
   ]
  },
  {
   "cell_type": "code",
   "execution_count": 9,
   "id": "e0032d5f-eb90-4b18-b3d2-0c2699ee9767",
   "metadata": {},
   "outputs": [],
   "source": [
    "# Import ARMA\n",
    "from statsmodels.tsa.arima_model import ARMA"
   ]
  },
  {
   "cell_type": "code",
   "execution_count": 10,
   "id": "fea8f9fb-8a2e-4706-a6a9-172a9df7461e",
   "metadata": {},
   "outputs": [
    {
     "name": "stderr",
     "output_type": "stream",
     "text": [
      "C:\\Users\\Owner\\anaconda3\\envs\\alpacaenv\\lib\\site-packages\\statsmodels\\tsa\\arima_model.py:472: FutureWarning: \n",
      "statsmodels.tsa.arima_model.ARMA and statsmodels.tsa.arima_model.ARIMA have\n",
      "been deprecated in favor of statsmodels.tsa.arima.model.ARIMA (note the .\n",
      "between arima and model) and\n",
      "statsmodels.tsa.SARIMAX. These will be removed after the 0.12 release.\n",
      "\n",
      "statsmodels.tsa.arima.model.ARIMA makes use of the statespace framework and\n",
      "is both well tested and maintained.\n",
      "\n",
      "To silence this warning and continue using ARMA and ARIMA until they are\n",
      "removed, use:\n",
      "\n",
      "import warnings\n",
      "warnings.filterwarnings('ignore', 'statsmodels.tsa.arima_model.ARMA',\n",
      "                        FutureWarning)\n",
      "warnings.filterwarnings('ignore', 'statsmodels.tsa.arima_model.ARIMA',\n",
      "                        FutureWarning)\n",
      "\n",
      "  warnings.warn(ARIMA_DEPRECATION_WARN, FutureWarning)\n"
     ]
    }
   ],
   "source": [
    "# Drop Nan then assign to returns \n",
    "df.dropna(inplace=True)\n",
    "returns = df.loc[:, 'returns']\n",
    "model = ARMA(returns.values, order=(1,1))"
   ]
  },
  {
   "cell_type": "code",
   "execution_count": 11,
   "id": "ac369051-cf05-4769-9005-8e919c8bb191",
   "metadata": {},
   "outputs": [],
   "source": [
    "results = model.fit()"
   ]
  },
  {
   "cell_type": "code",
   "execution_count": 12,
   "id": "94ed6ea5-a588-4973-9114-9a2d8521b5e2",
   "metadata": {},
   "outputs": [],
   "source": [
    "res = results.forecast(steps=10)"
   ]
  },
  {
   "cell_type": "code",
   "execution_count": 13,
   "id": "20b4b30f-e05a-4831-b53f-81f8ba31bebf",
   "metadata": {},
   "outputs": [
    {
     "data": {
      "text/plain": [
       "array([0.0005331 , 0.00014296, 0.00018428, 0.0001799 , 0.00018036,\n",
       "       0.00018032, 0.00018032, 0.00018032, 0.00018032, 0.00018032])"
      ]
     },
     "execution_count": 13,
     "metadata": {},
     "output_type": "execute_result"
    }
   ],
   "source": [
    "res[0]"
   ]
  },
  {
   "cell_type": "code",
   "execution_count": 14,
   "id": "bb176338-ec5d-4573-a138-c07015820334",
   "metadata": {},
   "outputs": [],
   "source": [
    "df_res = pd.DataFrame(res[0])"
   ]
  },
  {
   "cell_type": "code",
   "execution_count": 15,
   "id": "adf50dad-f110-42d9-bdea-9e1d53f1df8b",
   "metadata": {},
   "outputs": [
    {
     "data": {
      "text/plain": [
       "<AxesSubplot:>"
      ]
     },
     "execution_count": 15,
     "metadata": {},
     "output_type": "execute_result"
    },
    {
     "data": {
      "image/png": "[encoded data removed]",
      "text/plain": [
       "<Figure size 432x288 with 1 Axes>"
      ]
     },
     "metadata": {
      "needs_background": "light"
     },
     "output_type": "display_data"
    }
   ],
   "source": [
    "df_res.plot()"
   ]
  },
  {
   "cell_type": "code",
   "execution_count": 16,
   "id": "7df23db1-c7d1-4361-8fbe-e0d0b45e15bc",
   "metadata": {},
   "outputs": [
    {
     "data": {
      "text/html": [
       "<table class=\"simpletable\">\n",
       "<caption>ARMA Model Results</caption>\n",
       "<tr>\n",
       "  <th>Dep. Variable:</th>         <td>y</td>        <th>  No. Observations:  </th>    <td>1880</td>   \n",
       "</tr>\n",
       "<tr>\n",
       "  <th>Model:</th>            <td>ARMA(1, 1)</td>    <th>  Log Likelihood     </th>  <td>6700.067</td> \n",
       "</tr>\n",
       "<tr>\n",
       "  <th>Method:</th>             <td>css-mle</td>     <th>  S.D. of innovations</th>    <td>0.007</td>  \n",
       "</tr>\n",
       "<tr>\n",
       "  <th>Date:</th>          <td>Thu, 28 Apr 2022</td> <th>  AIC                </th> <td>-13392.134</td>\n",
       "</tr>\n",
       "<tr>\n",
       "  <th>Time:</th>              <td>13:58:11</td>     <th>  BIC                </th> <td>-13369.978</td>\n",
       "</tr>\n",
       "<tr>\n",
       "  <th>Sample:</th>                <td>0</td>        <th>  HQIC               </th> <td>-13383.973</td>\n",
       "</tr>\n",
       "<tr>\n",
       "  <th></th>                       <td> </td>        <th>                     </th>      <td> </td>    \n",
       "</tr>\n",
       "</table>\n",
       "<table class=\"simpletable\">\n",
       "<tr>\n",
       "     <td></td>        <th>coef</th>     <th>std err</th>      <th>z</th>      <th>P>|z|</th>  <th>[0.025</th>    <th>0.975]</th>  \n",
       "</tr>\n",
       "<tr>\n",
       "  <th>const</th>   <td>    0.0002</td> <td>    0.000</td> <td>    1.064</td> <td> 0.288</td> <td>   -0.000</td> <td>    0.001</td>\n",
       "</tr>\n",
       "<tr>\n",
       "  <th>ar.L1.y</th> <td>   -0.1059</td> <td>    0.278</td> <td>   -0.381</td> <td> 0.703</td> <td>   -0.650</td> <td>    0.439</td>\n",
       "</tr>\n",
       "<tr>\n",
       "  <th>ma.L1.y</th> <td>    0.1861</td> <td>    0.275</td> <td>    0.678</td> <td> 0.498</td> <td>   -0.352</td> <td>    0.724</td>\n",
       "</tr>\n",
       "</table>\n",
       "<table class=\"simpletable\">\n",
       "<caption>Roots</caption>\n",
       "<tr>\n",
       "    <td></td>   <th>            Real</th>  <th>         Imaginary</th> <th>         Modulus</th>  <th>        Frequency</th>\n",
       "</tr>\n",
       "<tr>\n",
       "  <th>AR.1</th> <td>          -9.4422</td> <td>          +0.0000j</td> <td>           9.4422</td> <td>           0.5000</td>\n",
       "</tr>\n",
       "<tr>\n",
       "  <th>MA.1</th> <td>          -5.3744</td> <td>          +0.0000j</td> <td>           5.3744</td> <td>           0.5000</td>\n",
       "</tr>\n",
       "</table>"
      ],
      "text/plain": [
       "<class 'statsmodels.iolib.summary.Summary'>\n",
       "\"\"\"\n",
       "                              ARMA Model Results                              \n",
       "==============================================================================\n",
       "Dep. Variable:                      y   No. Observations:                 1880\n",
       "Model:                     ARMA(1, 1)   Log Likelihood                6700.067\n",
       "Method:                       css-mle   S.D. of innovations              0.007\n",
       "Date:                Thu, 28 Apr 2022   AIC                         -13392.134\n",
       "Time:                        13:58:11   BIC                         -13369.978\n",
       "Sample:                             0   HQIC                        -13383.973\n",
       "                                                                              \n",
       "==============================================================================\n",
       "                 coef    std err          z      P>|z|      [0.025      0.975]\n",
       "------------------------------------------------------------------------------\n",
       "const          0.0002      0.000      1.064      0.288      -0.000       0.001\n",
       "ar.L1.y       -0.1059      0.278     -0.381      0.703      -0.650       0.439\n",
       "ma.L1.y        0.1861      0.275      0.678      0.498      -0.352       0.724\n",
       "                                    Roots                                    \n",
       "=============================================================================\n",
       "                  Real          Imaginary           Modulus         Frequency\n",
       "-----------------------------------------------------------------------------\n",
       "AR.1           -9.4422           +0.0000j            9.4422            0.5000\n",
       "MA.1           -5.3744           +0.0000j            5.3744            0.5000\n",
       "-----------------------------------------------------------------------------\n",
       "\"\"\""
      ]
     },
     "execution_count": 16,
     "metadata": {},
     "output_type": "execute_result"
    }
   ],
   "source": [
    "results.summary()"
   ]
  },
  {
   "cell_type": "code",
   "execution_count": null,
   "id": "2014a822-1103-4c2c-81e7-a92c14503c22",
   "metadata": {},
   "outputs": [],
   "source": []
  }
 ],
 "metadata": {
  "kernelspec": {
   "display_name": "Python 3 (ipykernel)",
   "language": "python",
   "name": "python3"
  },
  "language_info": {
   "codemirror_mode": {
    "name": "ipython",
    "version": 3
   },
   "file_extension": ".py",
   "mimetype": "text/x-python",
   "name": "python",
   "nbconvert_exporter": "python",
   "pygments_lexer": "ipython3",
   "version": "3.7.11"
  }
 },
 "nbformat": 4,
 "nbformat_minor": 5
}
